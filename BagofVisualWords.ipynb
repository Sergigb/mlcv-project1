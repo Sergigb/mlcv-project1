{
 "cells": [
  {
   "cell_type": "markdown",
   "metadata": {},
   "source": [
    "# M3_Week 1_Assignment\n",
    "- Marc Pérez Quintana  <br>\n",
    "- Basem Elbarashy <br>\n",
    "- Sergi Garcia Bordils <br>\n"
   ]
  },
  {
   "cell_type": "code",
   "execution_count": 114,
   "metadata": {},
   "outputs": [],
   "source": [
    "import cv2\n",
    "import numpy as np\n",
    "import pickle as cPickle\n",
    "from sklearn.cluster import MiniBatchKMeans\n",
    "from sklearn.neighbors import KNeighborsClassifier\n",
    "from sklearn.model_selection import StratifiedKFold"
   ]
  },
  {
   "cell_type": "markdown",
   "metadata": {},
   "source": [
    "## Read the train and test files"
   ]
  },
  {
   "cell_type": "code",
   "execution_count": 115,
   "metadata": {},
   "outputs": [
    {
     "name": "stdout",
     "output_type": "stream",
     "text": [
      "TRAIN:  {'Opencountry': 292, 'tallbuilding': 248, 'street': 212, 'mountain': 260, 'inside_city': 214, 'coast': 244, 'forest': 227, 'highway': 184}\n",
      "TEST:  {'Opencountry': 118, 'tallbuilding': 108, 'street': 80, 'mountain': 114, 'inside_city': 94, 'coast': 116, 'forest': 101, 'highway': 76}\n"
     ]
    }
   ],
   "source": [
    "train_images_filenames = cPickle.load(open('train_images_filenames.dat','rb'))\n",
    "test_images_filenames = cPickle.load(open('test_images_filenames.dat','rb'))\n",
    "train_labels = cPickle.load(open('train_labels.dat','rb'))\n",
    "test_labels = cPickle.load(open('test_labels.dat','rb'))\n",
    "\n",
    "class_count_test = {}\n",
    "for label in test_labels:\n",
    "    if label in class_count_test:\n",
    "        class_count_test[label] += 1\n",
    "    else: \n",
    "        class_count_test[label] = 1\n",
    "        \n",
    "class_count_train = {}\n",
    "for label in train_labels:\n",
    "    if label in class_count_train:\n",
    "        class_count_train[label] += 1\n",
    "    else: \n",
    "        class_count_train[label] = 1\n",
    "        \n",
    "print(\"TRAIN: \", class_count_train)\n",
    "print(\"TEST: \", class_count_test)"
   ]
  },
  {
   "cell_type": "markdown",
   "metadata": {},
   "source": [
    "## Create 5 Stratified Folds for Cross-validation"
   ]
  },
  {
   "cell_type": "code",
   "execution_count": 116,
   "metadata": {},
   "outputs": [
    {
     "name": "stdout",
     "output_type": "stream",
     "text": [
      "1881\n",
      "1881\n",
      "length of validation_index 372\n",
      "VALIDATION: [   4   11   12   17   18   27   39   51   58   59   62   85   88   89\n",
      "   90   91   99  102  105  110  117  119  120  123  127  132  139  146\n",
      "  154  157  164  174  177  179  180  181  185  189  201  202  204  207\n",
      "  208  214  218  224  229  232  238  243  258  266  267  274  279  280\n",
      "  289  290  291  296  303  310  311  319  321  323  325  326  327  330\n",
      "  331  336  343  350  354  359  361  365  377  381  382  383  385  398\n",
      "  399  408  409  410  411  414  424  462  469  473  475  478  494  498\n",
      "  502  510  511  512  516  518  530  532  533  535  536  540  547  554\n",
      "  555  565  567  569  570  571  574  575  580  587  598  603  620  621\n",
      "  625  627  629  631  635  641  642  643  644  658  663  668  684  688\n",
      "  698  699  700  702  704  706  725  726  729  733  743  744  752  756\n",
      "  767  774  777  779  782  792  794  798  803  805  810  811  816  817\n",
      "  819  822  832  845  857  858  869  870  877  881  882  885  887  889\n",
      "  899  908  916  921  925  928  937  940  941  947  951  958  963  965\n",
      "  966  975  976  978  980  981  982  985  986  991  998 1006 1009 1016\n",
      " 1020 1031 1040 1041 1044 1053 1054 1055 1059 1065 1069 1077 1095 1098\n",
      " 1099 1105 1106 1108 1116 1128 1142 1145 1147 1153 1165 1173 1179 1180\n",
      " 1188 1192 1195 1199 1200 1205 1212 1219 1223 1234 1239 1246 1251 1256\n",
      " 1263 1267 1268 1275 1277 1278 1279 1284 1288 1291 1293 1301 1320 1324\n",
      " 1328 1332 1334 1345 1347 1349 1351 1355 1356 1380 1384 1391 1393 1394\n",
      " 1406 1410 1412 1413 1418 1420 1421 1425 1432 1437 1439 1448 1449 1450\n",
      " 1452 1454 1455 1456 1459 1461 1465 1468 1472 1479 1480 1483 1488 1494\n",
      " 1509 1510 1514 1518 1527 1528 1529 1571 1572 1576 1581 1597 1600 1606\n",
      " 1611 1623 1625 1626 1627 1628 1632 1633 1637 1644 1651 1652 1660 1662\n",
      " 1664 1666 1667 1668 1671 1672 1677 1684 1691 1695 1700 1706 1711 1718\n",
      " 1723 1724 1728 1735 1745 1750 1751 1752 1753 1756 1760 1771 1793 1807\n",
      " 1812 1816 1818 1820 1839 1840 1843 1847 1855 1856 1857 1863 1874 1877\n",
      " 1880]\n",
      "{'Opencountry': 59, 'tallbuilding': 50, 'street': 43, 'mountain': 52, 'inside_city': 43, 'coast': 49, 'forest': 46, 'highway': 37}\n",
      "-------------------------\n",
      "length of validation_index 372\n",
      "VALIDATION: [   0    5    8   14   19   29   31   33   34   35   38   42   44   48\n",
      "   55   63   70   73   79   93   95  107  108  112  122  131  137  138\n",
      "  150  158  159  161  168  171  172  175  187  193  194  197  212  213\n",
      "  222  223  225  227  228  230  239  246  249  251  271  272  275  277\n",
      "  282  284  285  292  297  306  308  309  313  320  332  334  339  340\n",
      "  345  347  348  351  370  376  380  387  391  394  402  406  412  422\n",
      "  439  440  446  450  456  459  461  464  465  466  468  471  474  476\n",
      "  477  486  487  492  501  513  515  517  528  529  541  550  552  553\n",
      "  557  563  564  576  578  583  584  589  591  592  594  595  605  609\n",
      "  614  624  626  650  653  654  659  666  683  695  696  697  705  707\n",
      "  708  709  717  719  720  722  732  735  742  745  746  753  760  762\n",
      "  768  775  776  780  781  791  796  802  807  814  821  829  836  841\n",
      "  844  852  854  860  861  862  865  868  875  879  880  883  886  888\n",
      "  898  913  915  917  927  930  934  939  942  952  961  964  974  987\n",
      "  989  994  995 1000 1002 1003 1005 1013 1014 1025 1035 1036 1037 1042\n",
      " 1046 1057 1061 1063 1064 1074 1085 1090 1092 1097 1101 1117 1119 1121\n",
      " 1131 1132 1134 1136 1141 1144 1149 1151 1154 1160 1161 1172 1175 1177\n",
      " 1182 1189 1190 1194 1196 1201 1208 1214 1216 1217 1220 1228 1230 1245\n",
      " 1249 1250 1252 1254 1260 1271 1273 1281 1299 1306 1308 1309 1315 1319\n",
      " 1331 1333 1335 1337 1340 1342 1343 1344 1346 1368 1371 1390 1397 1399\n",
      " 1401 1402 1404 1407 1409 1414 1426 1435 1438 1440 1460 1463 1469 1474\n",
      " 1475 1476 1477 1487 1490 1499 1505 1511 1516 1519 1520 1523 1531 1533\n",
      " 1535 1538 1539 1543 1544 1545 1548 1569 1574 1589 1590 1591 1592 1594\n",
      " 1596 1603 1604 1608 1612 1614 1617 1638 1647 1649 1650 1654 1661 1673\n",
      " 1675 1680 1681 1686 1688 1689 1692 1702 1717 1721 1722 1726 1732 1739\n",
      " 1740 1743 1747 1749 1780 1781 1783 1791 1792 1800 1803 1804 1805 1809\n",
      " 1810 1814 1817 1819 1821 1829 1832 1835 1846 1849 1867 1869 1870 1873\n",
      " 1878]\n",
      "{'Opencountry': 59, 'tallbuilding': 50, 'street': 43, 'mountain': 52, 'inside_city': 43, 'coast': 49, 'forest': 46, 'highway': 37}\n",
      "-------------------------\n",
      "length of validation_index 372\n",
      "VALIDATION: [  16   21   24   28   40   47   53   54   56   60   61   66   67   69\n",
      "   78   82   84   94   97   98  101  106  114  116  118  130  134  140\n",
      "  142  145  147  148  163  167  169  170  173  176  182  184  186  188\n",
      "  191  192  206  211  217  221  234  236  247  248  250  259  263  265\n",
      "  286  287  294  304  305  328  337  346  358  362  367  373  374  386\n",
      "  389  390  395  397  400  404  415  416  419  430  437  442  444  451\n",
      "  452  453  455  458  460  479  481  482  483  488  489  490  491  503\n",
      "  506  508  514  519  520  522  524  525  526  538  548  549  572  581\n",
      "  590  602  606  611  617  618  630  633  634  638  639  646  648  652\n",
      "  655  656  660  674  681  686  687  690  701  710  712  713  718  721\n",
      "  727  734  737  738  741  747  748  750  754  757  758  761  763  765\n",
      "  769  784  799  808  809  818  825  828  833  837  838  840  847  848\n",
      "  850  851  853  855  856  871  873  876  890  895  910  911  922  923\n",
      "  926  929  932  933  935  944  945  949  953  959  960  968  983  992\n",
      " 1001 1017 1022 1028 1029 1032 1038 1045 1049 1050 1052 1066 1067 1070\n",
      " 1071 1079 1100 1107 1109 1111 1112 1113 1118 1120 1124 1126 1133 1137\n",
      " 1138 1140 1143 1146 1152 1155 1158 1159 1163 1166 1167 1174 1178 1197\n",
      " 1203 1206 1209 1215 1227 1231 1236 1242 1243 1255 1258 1259 1264 1266\n",
      " 1269 1280 1283 1285 1311 1313 1322 1325 1329 1330 1338 1348 1352 1354\n",
      " 1360 1362 1366 1367 1369 1372 1375 1377 1378 1379 1385 1386 1388 1389\n",
      " 1400 1403 1411 1419 1423 1427 1433 1434 1442 1457 1466 1491 1496 1502\n",
      " 1503 1506 1512 1515 1524 1526 1537 1540 1541 1551 1553 1559 1564 1566\n",
      " 1568 1573 1579 1580 1582 1584 1585 1586 1593 1598 1605 1609 1610 1615\n",
      " 1618 1621 1630 1631 1635 1639 1645 1646 1669 1678 1687 1699 1703 1708\n",
      " 1714 1715 1727 1730 1731 1736 1738 1741 1755 1757 1763 1765 1778 1785\n",
      " 1787 1794 1796 1797 1801 1802 1813 1822 1824 1826 1830 1834 1841 1842\n",
      " 1851 1852 1853 1858 1859 1860 1862 1864 1865 1871 1872 1875]\n",
      "{'Opencountry': 58, 'tallbuilding': 50, 'street': 42, 'mountain': 52, 'inside_city': 43, 'coast': 49, 'forest': 45, 'highway': 37}\n",
      "-------------------------\n",
      "length of validation_index 372\n",
      "VALIDATION: [   2    6   10   13   20   23   32   36   45   46   57   65   74   75\n",
      "   77   81   83   87   92   96  100  103  113  124  125  126  128  136\n",
      "  143  149  151  152  155  160  162  165  166  183  190  198  199  200\n",
      "  205  219  220  231  233  240  242  244  245  253  256  257  260  261\n",
      "  269  288  295  298  301  302  307  315  316  318  324  333  335  338\n",
      "  341  344  356  357  366  368  369  372  375  379  384  392  396  401\n",
      "  403  405  417  418  427  428  435  441  443  445  447  454  457  463\n",
      "  472  480  485  493  497  499  500  521  534  539  542  545  546  551\n",
      "  559  560  562  568  577  579  582  585  588  600  601  610  612  613\n",
      "  616  619  623  628  636  640  645  647  649  661  662  671  672  679\n",
      "  689  691  694  703  715  716  723  724  730  731  749  755  766  772\n",
      "  773  778  786  787  789  790  793  795  797  801  804  806  812  815\n",
      "  827  830  839  843  846  863  866  867  872  874  893  894  901  906\n",
      "  912  914  918  931  936  938  946  950  956  957  962  970  971  973\n",
      "  979  988  990  993  996  999 1011 1012 1021 1023 1024 1027 1030 1034\n",
      " 1039 1047 1051 1056 1058 1060 1072 1073 1078 1082 1083 1094 1096 1102\n",
      " 1110 1114 1115 1123 1127 1129 1130 1148 1164 1170 1171 1176 1184 1185\n",
      " 1187 1193 1202 1204 1207 1210 1213 1225 1226 1235 1237 1238 1241 1244\n",
      " 1248 1253 1261 1265 1270 1272 1274 1286 1287 1292 1296 1297 1304 1310\n",
      " 1312 1314 1316 1321 1323 1326 1327 1341 1350 1357 1358 1359 1363 1374\n",
      " 1381 1382 1405 1415 1424 1430 1431 1436 1444 1445 1447 1453 1462 1464\n",
      " 1467 1470 1473 1485 1486 1495 1497 1498 1501 1504 1508 1513 1521 1525\n",
      " 1530 1532 1534 1546 1547 1556 1557 1570 1575 1583 1587 1588 1595 1601\n",
      " 1602 1616 1619 1620 1636 1642 1643 1648 1656 1657 1659 1665 1674 1676\n",
      " 1679 1682 1685 1697 1698 1707 1709 1710 1713 1716 1720 1725 1733 1737\n",
      " 1742 1744 1746 1758 1759 1768 1769 1776 1782 1784 1786 1788 1795 1798\n",
      " 1799 1806 1815 1823 1827 1828 1831 1838 1844 1861 1866]\n",
      "{'Opencountry': 58, 'tallbuilding': 49, 'street': 42, 'mountain': 52, 'inside_city': 43, 'coast': 49, 'forest': 45, 'highway': 37}\n",
      "-------------------------\n",
      "length of validation_index 372\n",
      "VALIDATION: [   1    3    7    9   15   22   25   26   30   37   41   43   49   50\n",
      "   52   64   68   71   72   76   80   86  104  109  111  115  121  129\n",
      "  133  135  141  144  153  156  178  195  196  203  209  210  215  216\n",
      "  226  235  237  241  252  254  255  262  264  268  270  273  276  278\n",
      "  281  283  293  299  300  312  314  317  322  329  342  349  352  353\n",
      "  355  360  363  364  371  378  388  393  407  413  420  421  423  425\n",
      "  426  429  431  432  433  434  436  438  448  449  467  470  484  495\n",
      "  496  504  505  507  509  523  527  531  537  543  544  556  558  561\n",
      "  566  573  586  593  596  597  599  604  607  608  615  622  632  637\n",
      "  651  657  664  665  667  669  670  673  675  676  677  678  680  682\n",
      "  685  692  693  711  714  728  736  739  740  751  759  764  770  771\n",
      "  783  785  788  800  813  820  823  824  826  831  834  835  842  849\n",
      "  859  864  878  884  891  892  896  897  900  902  903  904  905  907\n",
      "  909  919  920  924  943  948  954  955  967  969  972  977  984  997\n",
      " 1004 1007 1008 1010 1015 1018 1019 1026 1033 1043 1048 1062 1068 1075\n",
      " 1076 1080 1081 1084 1086 1087 1088 1089 1091 1093 1103 1104 1122 1125\n",
      " 1135 1139 1150 1156 1157 1162 1168 1169 1181 1183 1186 1191 1198 1211\n",
      " 1218 1221 1222 1224 1229 1232 1233 1240 1247 1257 1262 1276 1282 1289\n",
      " 1290 1294 1295 1298 1300 1302 1303 1305 1307 1317 1318 1336 1339 1353\n",
      " 1361 1364 1365 1370 1373 1376 1383 1387 1392 1395 1396 1398 1408 1416\n",
      " 1417 1422 1428 1429 1441 1443 1446 1451 1458 1471 1478 1481 1482 1484\n",
      " 1489 1492 1493 1500 1507 1517 1522 1536 1542 1549 1550 1552 1554 1555\n",
      " 1558 1560 1561 1562 1563 1565 1567 1577 1578 1599 1607 1613 1622 1624\n",
      " 1629 1634 1640 1641 1653 1655 1658 1663 1670 1683 1690 1693 1694 1696\n",
      " 1701 1704 1705 1712 1719 1729 1734 1748 1754 1761 1762 1764 1766 1767\n",
      " 1770 1772 1773 1774 1775 1777 1779 1789 1790 1808 1811 1825 1833 1836\n",
      " 1837 1845 1848 1850 1854 1868 1876 1879]\n",
      "{'Opencountry': 58, 'tallbuilding': 49, 'street': 42, 'mountain': 52, 'inside_city': 42, 'coast': 48, 'forest': 45, 'highway': 36}\n",
      "-------------------------\n"
     ]
    }
   ],
   "source": [
    "skf = StratifiedKFold(n_splits=5, shuffle=True, random_state=1)\n",
    "print(len(train_images_filenames))\n",
    "print(len(train_labels))\n",
    "skf_split = skf.split(train_images_filenames, train_labels)\n",
    "for train_index, validation_index in skf_split:\n",
    "    print(\"length of validation_index\", len(test_index))\n",
    "    print(\"VALIDATION:\", validation_index)\n",
    "    class_count = {}\n",
    "    for index in validation_index:\n",
    "        label = train_labels[index]\n",
    "        if label in class_count:\n",
    "            class_count[label] += 1\n",
    "        else: \n",
    "            class_count[label] = 1\n",
    "    print(class_count)\n",
    "    print(\"-------------------------\")\n"
   ]
  },
  {
   "cell_type": "markdown",
   "metadata": {},
   "source": [
    "## Set the parameters of the execution"
   ]
  },
  {
   "cell_type": "code",
   "execution_count": 117,
   "metadata": {},
   "outputs": [],
   "source": [
    "num_features = 400 #number of features for the SIFT detector but for densesift it depends on step value\n",
    "step = 20\n",
    "k = 300 # codebook size / number of clusters for KMeans / number of words\n",
    "num_neighbors = 10 #number of neighbors (k) for the k-nn classifier\n",
    "knn_metric = 'manhattan'#distance for the k-nn classifier\n",
    "denseSift = True #True if Dense SIFT is to be used, False for classical SIFT\n",
    "pyramidDepth = 0 # 0-> No spatial pyramid, 1-> whole image + 4 subimages, 2-> lower levels + 16 subimages, ..."
   ]
  },
  {
   "cell_type": "markdown",
   "metadata": {},
   "source": [
    "## Implementing Dense SIFT\n",
    "- compute the SIFT descriptors for all the train images and subsequently build a numpy array with all the descriptors stacked together"
   ]
  },
  {
   "cell_type": "code",
   "execution_count": 118,
   "metadata": {},
   "outputs": [],
   "source": [
    "def denseSIFT(images_filenames, labels):\n",
    "    SIFTdetector = cv2.xfeatures2d.SIFT_create(num_features) # Create a SIFT object detector and descriptor\n",
    "    descriptors = []\n",
    "    label_per_descriptor = []\n",
    "    kpts = []\n",
    "\n",
    "    for filename, labels in zip(images_filenames, labels):\n",
    "        filename = filename.replace(\"../../Databases/MIT_split\", \".\")\n",
    "        ima = cv2.imread(filename)\n",
    "        gray = cv2.cvtColor(ima, cv2.COLOR_BGR2GRAY)\n",
    "\n",
    "        if denseSift:\n",
    "            height, width = gray.shape\n",
    "            kpt = [cv2.KeyPoint(x, y, step) for y in range(0, gray.shape[0], step) \n",
    "                                            for x in range(0, gray.shape[1], step)]\n",
    "            _, des = SIFTdetector.compute(gray, kpt)\n",
    "\n",
    "        else:\n",
    "            kpt, des = SIFTdetector.detectAndCompute(gray, None)\n",
    "\n",
    "        kpts.append(kpt)\n",
    "        descriptors.append(des)\n",
    "        label_per_descriptor.append(labels)\n",
    "\n",
    "    return (kpts, descriptors, np.vstack(descriptors))\n",
    "\n",
    "Train_kpts, Train_descriptors, D = denseSIFT(train_images_filenames, train_labels)"
   ]
  },
  {
   "cell_type": "markdown",
   "metadata": {},
   "source": [
    "## Compute k-means clustering on the descriptor space"
   ]
  },
  {
   "cell_type": "code",
   "execution_count": 119,
   "metadata": {},
   "outputs": [
    {
     "data": {
      "text/plain": [
       "MiniBatchKMeans(batch_size=6000, compute_labels=False, init='k-means++',\n",
       "        init_size=None, max_iter=100, max_no_improvement=10,\n",
       "        n_clusters=300, n_init=3, random_state=42,\n",
       "        reassignment_ratio=0.0001, tol=0.0, verbose=False)"
      ]
     },
     "execution_count": 119,
     "metadata": {},
     "output_type": "execute_result"
    }
   ],
   "source": [
    "codebook = MiniBatchKMeans(n_clusters=k, verbose=False, batch_size=k * 20,compute_labels=False,reassignment_ratio=10**-4,random_state=42)\n",
    "codebook.fit(D)"
   ]
  },
  {
   "cell_type": "markdown",
   "metadata": {},
   "source": [
    "### For each train image, we project each keypoint descriptor to its closest visual word. We represent each of the images with the frequency of each visual word."
   ]
  },
  {
   "cell_type": "code",
   "execution_count": 120,
   "metadata": {},
   "outputs": [],
   "source": [
    "def get_visual_words(Train_descriptors):\n",
    "    for level in range(pyramidDepth+1):\n",
    "        if(level == 0):\n",
    "            pyramid_visual_words = np.zeros((len(Train_descriptors), k), dtype=np.float32)\n",
    "            for i in range(len(Train_descriptors)):\n",
    "                for word in codebook.predict(Train_descriptors[i]):   \n",
    "                    pyramid_visual_words[i,word]+=1\n",
    "        else:\n",
    "            for x in range(2**level):\n",
    "                    for y in range(2**level): \n",
    "                        visual_words=np.zeros((len(Train_descriptors),k),dtype=np.float32)\n",
    "                        for i in range(len(Train_descriptors)):    \n",
    "                            words = codebook.predict(Train_descriptors[i])\n",
    "                            for keypoint in range(len(Train_descriptors[i])):\n",
    "                                x_pt, y_pt = Train_kpts[i][keypoint].pt\n",
    "                                if (x_pt>=x*256/(2**level) and x_pt<(x+1)*256/(2**level) and y_pt>=x*256/(2**level) and y_pt<(x+1)*256/(2**level)):\n",
    "                                    visual_words[i, words[keypoint]]+=1\n",
    "                        pyramid_visual_words = np.append(pyramid_visual_words, visual_words, axis=1)\n",
    "        #print(pyramid_visual_words.shape)\n",
    "    return pyramid_visual_words\n",
    "visual_words = get_visual_words(Train_descriptors)"
   ]
  },
  {
   "cell_type": "markdown",
   "metadata": {},
   "source": [
    "## Build a k-nn classifier and train it with the train descriptors"
   ]
  },
  {
   "cell_type": "code",
   "execution_count": 121,
   "metadata": {},
   "outputs": [
    {
     "data": {
      "text/plain": [
       "KNeighborsClassifier(algorithm='auto', leaf_size=30, metric='manhattan',\n",
       "           metric_params=None, n_jobs=-1, n_neighbors=10, p=2,\n",
       "           weights='uniform')"
      ]
     },
     "execution_count": 121,
     "metadata": {},
     "output_type": "execute_result"
    }
   ],
   "source": [
    "knn = KNeighborsClassifier(n_neighbors=num_neighbors,n_jobs=-1,metric=knn_metric)\n",
    "knn.fit(visual_words, train_labels)"
   ]
  },
  {
   "cell_type": "markdown",
   "metadata": {},
   "source": [
    "## Compute the test descriptors and compute the accuracy of the model"
   ]
  },
  {
   "cell_type": "code",
   "execution_count": 122,
   "metadata": {},
   "outputs": [],
   "source": [
    "Test_kpts, Test_descriptors, D = denseSIFT(test_images_filenames, test_labels)\n",
    "words = [codebook.predict(des) for des in Test_descriptors]\n",
    "visual_words_test = get_visual_words(Test_descriptors)\n"
   ]
  },
  {
   "cell_type": "code",
   "execution_count": 123,
   "metadata": {},
   "outputs": [
    {
     "name": "stdout",
     "output_type": "stream",
     "text": [
      "77.32342007434944\n"
     ]
    }
   ],
   "source": [
    "accuracy = 100*knn.score(visual_words_test, test_labels)\n",
    "print(accuracy)"
   ]
  },
  {
   "cell_type": "markdown",
   "metadata": {
    "collapsed": true
   },
   "source": [
    "We save a log file of the execution"
   ]
  },
  {
   "cell_type": "code",
   "execution_count": 124,
   "metadata": {},
   "outputs": [],
   "source": [
    "with open('parameters_execution.log', 'a') as f:\n",
    "    f.write('denseSift: '+str(denseSift)+', '+\n",
    "            'num_features: '+str(num_features)+', '+\n",
    "            'k: '+str(k)+', '+\n",
    "            'num_neighbors: '+str(num_neighbors)+', '+\n",
    "            'knn_metric: '+str(knn_metric)+', '+\n",
    "            'step: '+str(step)+', '+\n",
    "            'pyramidDepth: '+str(pyramidDepth)+', '+\n",
    "            'accuracy: '+str(accuracy)+'\\n')\n",
    "    "
   ]
  },
  {
   "cell_type": "markdown",
   "metadata": {},
   "source": [
    "## We tuned parameters individually first and then tuned all at the same time\n",
    "### Visualizing how each parameter affect the accuracy after trying several values for each one"
   ]
  },
  {
   "cell_type": "code",
   "execution_count": 125,
   "metadata": {},
   "outputs": [
    {
     "data": {
      "image/png": "[encoded data removed]",
      "text/plain": [
       "<Figure size 1008x504 with 2 Axes>"
      ]
     },
     "metadata": {
      "needs_background": "light"
     },
     "output_type": "display_data"
    },
    {
     "data": {
      "image/png": "[encoded data removed]",
      "text/plain": [
       "<Figure size 1008x504 with 2 Axes>"
      ]
     },
     "metadata": {
      "needs_background": "light"
     },
     "output_type": "display_data"
    }
   ],
   "source": [
    "import numpy as np\n",
    "import matplotlib.pyplot as plt\n",
    "\n",
    "\n",
    "k_range             = np.arange(20, 600, 20)\n",
    "num_neighbors_range = np.arange(1, 18, 1)\n",
    "step_range          = np.arange(10,40,5)\n",
    "knn_metric_range    = ['Chebyshev','Euclidean','Manhattan']\n",
    "\n",
    "k_acc               = [66.5,73.2,70.7,75.9,73.3,76.2,76.3,73.4,74.5,75.2,75.2,74.9,76.3,73.9,75.2,75.9,76.7,77.5,74.2,73.6,74.5,76.7,76.4,74.2,72.9,74.5,76.0, 75.9, 72.7]\n",
    "num_neighbors_acc   = [70.6,71.1,73.6,76.2,77.5,75.9,75.8,75.8,75.8,76.8,77.3,77.6,77.4,77.6,76.7,75.9, 76.5]\n",
    "step_acc            = [77.5, 74.3, 75.9, 75.7, 74.4, 73.3]\n",
    "knn_metric_acc      = [59.60,77.57, 78.31]\n",
    "\n",
    "plt.figure(figsize=(14, 7))\n",
    "plt.subplot(221)\n",
    "plt.plot(k_range, k_acc, 'r--');  plt.plot(k_range, k_acc, 'o');  \n",
    "plt.xlabel('K');  plt.ylabel('Accuracy');\n",
    "\n",
    "plt.subplot(222)\n",
    "plt.plot(num_neighbors_range, num_neighbors_acc, 'r--');  plt.plot(num_neighbors_range, num_neighbors_acc, 'o');  \n",
    "plt.xlabel('Num_neighbors');  plt.ylabel('Accuracy');\n",
    "\n",
    "\n",
    "plt.figure(figsize=(14, 7))\n",
    "plt.subplot(221)\n",
    "plt.plot(step_range, step_acc, 'r--');  plt.plot(step_range, step_acc, 'o');  \n",
    "plt.xlabel('Step');  plt.ylabel('Accuracy');\n",
    "\n",
    "\n",
    "plt.subplot(222)\n",
    "plt.plot(knn_metric_range, knn_metric_acc, 'r--');  plt.plot(knn_metric_range, knn_metric_acc, 'o');  \n",
    "plt.xlabel('Knn_metric');  plt.ylabel('Accuracy');"
   ]
  },
  {
   "cell_type": "markdown",
   "metadata": {},
   "source": [
    "### Tuning all parameters at the same time, visualizing the accuracy versus different configurations of parameters "
   ]
  },
  {
   "cell_type": "markdown",
   "metadata": {},
   "source": [
    "\n",
    "    \n",
    "| denseSift | num_features   | k | num_neighbors | knn_metric | step | accuracy |\n",
    "|------|------|------|------|------|------|------|\n",
    "|   True  | 676 | 100  | 5 | manhattan  | 10 | 77.3  | \n",
    "|   True  | 676 | 100  | 5 | euclidean  | 10 | 73.3  | \n",
    "|   True  | 169 | 100  | 5 | manhattan  | 20 | 74.3  | \n",
    "|   True  | 169 | 100  | 5 | euclidean  | 20 | 74.3  | \n",
    "|   True  | 676 | 100  | 10 | manhattan  | 10 | 77.6  | \n",
    "|   True  | 676 | 100  | 10 | euclidean  | 10 | 74.9  | \n",
    "|   True  | 169 | 100  | 10 | manhattan  | 20 | 75.4  | \n",
    "|   True  | 169 | 100  | 10 | euclidean  | 20 | 74.5  | \n",
    "|   True  | 676 | 300  | 5 | manhattan  | 10 | 80.9  | \n",
    "|   True  | 676 | 300  | 5 | euclidean  | 10 | 75.2  | \n",
    "|   True  | 169 | 300  | 5 | manhattan  | 20 | 77.1  | \n",
    "|   True  | 169 | 300  | 5 | euclidean  | 20 | 75.9  | \n",
    "|   True  | 676 | 300  | 10 | manhattan  | 10 | 80.5  | \n",
    "|   True  | 676 | 300  | 10 | euclidean  | 10 | 75.3  | \n",
    "|   True  | 169 | 300  | 10 | manhattan  | 20 | 77.1  | \n",
    "|   True  | 169 | 300  | 10 | euclidean  | 20 | 76.4  | \n",
    "|   True  | 2704 | 300  | 10 | manhattan  | 5 | 80.7  | \n",
    "|   False  | 500 | 300  | 5 | manhattan  | - | 48.3  | \n",
    "|   False  | 800 | 300  | 5 | manhattan  | - | 52  | \n",
    "\n"
   ]
  }
 ],
 "metadata": {
  "kernelspec": {
   "display_name": "m1venv",
   "language": "python",
   "name": "m1venv"
  },
  "language_info": {
   "codemirror_mode": {
    "name": "ipython",
    "version": 3
   },
   "file_extension": ".py",
   "mimetype": "text/x-python",
   "name": "python",
   "nbconvert_exporter": "python",
   "pygments_lexer": "ipython3",
   "version": "3.5.2"
  }
 },
 "nbformat": 4,
 "nbformat_minor": 1
}
