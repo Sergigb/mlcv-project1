{
 "cells": [
  {
   "cell_type": "markdown",
   "metadata": {},
   "source": [
    "# Week 2_Assignment\n",
    "## Team members:\n",
    "- Marc Pérez Quintana  <br>\n",
    "- Basem Elbarashy <br>\n",
    "- Sergi Garcia Bordils <br>\n"
   ]
  },
  {
   "cell_type": "markdown",
   "metadata": {},
   "source": [
    "## Notes:\n",
    "- We list/explain at the start of each section the defined variables that will be used in the other sections \n",
    "- We assume that you have the following in the current dir:  \n",
    "test/, train/ , test_images_filenames.dat , train_images_filenames.dat, test_labels.dat, train_labels.dat\n",
    "- The code is tested with python 3 and opencv 3.4\n",
    "- Most components are implemented in methods so we can easily play with them at the end of the notebook and tune the hyperparameters\n"
   ]
  },
  {
   "cell_type": "code",
   "execution_count": 9,
   "metadata": {},
   "outputs": [],
   "source": [
    "import cv2\n",
    "import numpy as np\n",
    "import pickle as cPickle\n",
    "from sklearn.cluster import MiniBatchKMeans\n",
    "from sklearn.neighbors import KNeighborsClassifier\n",
    "from sklearn.model_selection import StratifiedKFold\n",
    "from sklearn import svm\n",
    "from sklearn.linear_model import SGDClassifier\n",
    "import matplotlib.pyplot as plt\n",
    "from sklearn.preprocessing import StandardScaler\n",
    "from sklearn.preprocessing import normalize"
   ]
  },
  {
   "cell_type": "markdown",
   "metadata": {},
   "source": [
    "## Hyperparameters"
   ]
  },
  {
   "cell_type": "code",
   "execution_count": 29,
   "metadata": {},
   "outputs": [],
   "source": [
    "num_features = 400 #number of features for the SIFT detector but for densesift it depends on step value\n",
    "step = 10\n",
    "k = 500 # codebook size / number of clusters for KMeans / number of words\n",
    "num_neighbors = 5 #number of neighbors (k) for the k-nn classifier\n",
    "knn_metric = 'manhattan'#distance for the k-nn classifier\n",
    "denseSift = True #True if Dense SIFT is to be used, False for classical SIFT\n",
    "pyramidDepth = 2 # 0-> No spatial pyramid, 1-> whole image + 4 subimages, 2-> lower levels + 16 subimages, ...\n",
    "\n",
    "\n",
    "normalization = True \n",
    "norm = 'power'  # l2 or power\n",
    "steps = [10]  # [10, 10, 10, 10]  # steps for the different desc sizes\n",
    "kpt_sizes = [10]  # [5, 10, 15, 20]  # desc sizes\n",
    "alpha = 0.9\n",
    "\n"
   ]
  },
  {
   "cell_type": "markdown",
   "metadata": {},
   "source": [
    "## 1) Read the train and test files\n",
    "- train_images_filenames\n",
    "- test_images_filenames\n",
    "- train_labels\n",
    "- test_labels"
   ]
  },
  {
   "cell_type": "code",
   "execution_count": 30,
   "metadata": {},
   "outputs": [
    {
     "name": "stdout",
     "output_type": "stream",
     "text": [
      "- Trainset Size =  1881\n",
      "- Trainset classes count :  {'coast': 244, 'Opencountry': 292, 'street': 212, 'tallbuilding': 248, 'forest': 227, 'mountain': 260, 'highway': 184, 'inside_city': 214}\n",
      "- Testset Size =  807\n",
      "- Testset classes count:  {'coast': 116, 'Opencountry': 118, 'street': 80, 'tallbuilding': 108, 'forest': 101, 'mountain': 114, 'highway': 76, 'inside_city': 94}\n"
     ]
    },
    {
     "data": {
      "image/png": "[encoded data removed]",
      "text/plain": [
       "<Figure size 432x288 with 1 Axes>"
      ]
     },
     "metadata": {
      "needs_background": "light"
     },
     "output_type": "display_data"
    }
   ],
   "source": [
    "train_images_filenames = cPickle.load(open('train_images_filenames.dat','rb'))\n",
    "test_images_filenames = cPickle.load(open('test_images_filenames.dat','rb'))\n",
    "train_labels = cPickle.load(open('train_labels.dat','rb'))\n",
    "test_labels = cPickle.load(open('test_labels.dat','rb'))\n",
    "\n",
    "class_count_test = {}\n",
    "for label in test_labels:\n",
    "    if label in class_count_test:\n",
    "        class_count_test[label] += 1\n",
    "    else: \n",
    "        class_count_test[label] = 1\n",
    "        \n",
    "class_count_train = {}\n",
    "for label in train_labels:\n",
    "    if label in class_count_train:\n",
    "        class_count_train[label] += 1\n",
    "    else: \n",
    "        class_count_train[label] = 1\n",
    "\n",
    "print('- Trainset Size = ', len(train_labels))\n",
    "print(\"- Trainset classes count : \", class_count_train)\n",
    "print('- Testset Size = ', len(test_labels))\n",
    "print(\"- Testset classes count: \", class_count_test)\n",
    "\n",
    "plt.bar(range(len(class_count_train)), list(class_count_train.values()), align='center')\n",
    "plt.xticks(range(len(class_count_train)), list(class_count_train.keys()), rotation='vertical')\n",
    "plt.title('Classes Frequency')\n",
    "plt.show()"
   ]
  },
  {
   "cell_type": "code",
   "execution_count": 31,
   "metadata": {},
   "outputs": [
    {
     "data": {
      "text/plain": [
       "'\\nskf = StratifiedKFold(n_splits=5, shuffle=True, random_state=1)\\nskf_split = skf.split(train_images_filenames, train_labels)\\n\\nfor train_index, validation_index in skf_split:\\n    print(\"length of validation_index\", len(validation_index))\\n    print(\"VALIDATION:\", validation_index)\\n    class_count = {}\\n    for index in validation_index:\\n        label = train_labels[index]\\n        if label in class_count:\\n            class_count[label] += 1\\n        else: \\n            class_count[label] = 1\\n    print(class_count)\\n    print(\"-------------------------\")\\n'"
      ]
     },
     "execution_count": 31,
     "metadata": {},
     "output_type": "execute_result"
    }
   ],
   "source": [
    "\"\"\"\n",
    "skf = StratifiedKFold(n_splits=5, shuffle=True, random_state=1)\n",
    "skf_split = skf.split(train_images_filenames, train_labels)\n",
    "\n",
    "for train_index, validation_index in skf_split:\n",
    "    print(\"length of validation_index\", len(validation_index))\n",
    "    print(\"VALIDATION:\", validation_index)\n",
    "    class_count = {}\n",
    "    for index in validation_index:\n",
    "        label = train_labels[index]\n",
    "        if label in class_count:\n",
    "            class_count[label] += 1\n",
    "        else: \n",
    "            class_count[label] = 1\n",
    "    print(class_count)\n",
    "    print(\"-------------------------\")\n",
    "\"\"\""
   ]
  },
  {
   "cell_type": "markdown",
   "metadata": {},
   "source": [
    "## Implementing Dense SIFT\n",
    "- compute the SIFT descriptors for all the train images and subsequently build a numpy array with all the descriptors stacked together"
   ]
  },
  {
   "cell_type": "code",
   "execution_count": 32,
   "metadata": {},
   "outputs": [],
   "source": [
    "def denseSIFT(images_filenames, labels):\n",
    "    SIFTdetector = cv2.xfeatures2d.SIFT_create(num_features) # Create a SIFT object detector and descriptor\n",
    "    descriptors = []\n",
    "    label_per_descriptor = []\n",
    "    kpts = []\n",
    "    \n",
    "    if denseSift:\n",
    "        kpt = []\n",
    "        # I moved this here to avoid computing the kpts for every image, since they all have the same size\n",
    "        for step, size in zip(steps, kpt_sizes):  \n",
    "            kpt.extend([cv2.KeyPoint(x, y, size) for y in range(0, 256, step) \n",
    "                                             for x in range(0, 256, step)])\n",
    "    \n",
    "    for filename, labels in zip(images_filenames, labels):\n",
    "        filename = filename.replace(\"../../Databases/MIT_split\", \".\")\n",
    "        ima = cv2.imread(filename)\n",
    "        gray = cv2.cvtColor(ima, cv2.COLOR_BGR2GRAY)\n",
    "\n",
    "        if denseSift:\n",
    "            _, des = SIFTdetector.compute(gray, kpt)\n",
    "\n",
    "        else:\n",
    "            kpt, des = SIFTdetector.detectAndCompute(gray, None)\n",
    "        \n",
    "        if normalization:\n",
    "            if norm == 'l2':\n",
    "                des = normalize(des, norm, axis=0)\n",
    "            if norm == 'power':\n",
    "                des = np.sign(des) * (des**alpha)\n",
    "                \n",
    "        kpts.append(kpt)\n",
    "        descriptors.append(des)\n",
    "        label_per_descriptor.append(labels)\n",
    "\n",
    "    return (kpts, descriptors, np.vstack(descriptors))"
   ]
  },
  {
   "cell_type": "markdown",
   "metadata": {},
   "source": [
    "### For each train image, we project each keypoint descriptor to its closest visual word. We represent each of the images with the frequency of each visual word."
   ]
  },
  {
   "cell_type": "code",
   "execution_count": 33,
   "metadata": {},
   "outputs": [],
   "source": [
    "def get_visual_words(codebook, descriptors, kpts):\n",
    "    num_images = len(descriptors)\n",
    "    for level in range(pyramidDepth+1):\n",
    "        if(level == 0):\n",
    "            pyramid_visual_words = np.zeros((num_images, k), dtype=np.float32)\n",
    "            for image in range(num_images):\n",
    "                for word in codebook.predict(descriptors[image]):   \n",
    "                    pyramid_visual_words[image,word]+=1\n",
    "                pyramid_visual_words[image] = pyramid_visual_words[image] / pyramid_visual_words[image].sum()\n",
    "            print(\"level 0 ->>>>>> \"+str(pyramid_visual_words.sum()))\n",
    "        else:\n",
    "            for x in range(2**level):\n",
    "                    for y in range(2**level): \n",
    "                        visual_words=np.zeros((num_images,k),dtype=np.float32)\n",
    "                        for image in range(num_images):    \n",
    "                            words = codebook.predict(descriptors[image])\n",
    "                            for keypoint in range(len(kpts[image])):\n",
    "                                x_pt, y_pt = kpts[image][keypoint].pt\n",
    "                                if (x_pt>=x*256/(2**level) and x_pt<(x+1)*256/(2**level) and y_pt>=y*256/(2**level) and y_pt<(y+1)*256/(2**level)):\n",
    "                                    visual_words[image, words[keypoint]]+=1\n",
    "                            visual_words[image] = visual_words[image] / visual_words[image].sum()\n",
    "                        pyramid_visual_words = np.append(pyramid_visual_words, visual_words, axis=1)\n",
    "                        print(\"level \"+str(level)+\",x \"+str(x)+\",y \"+str(y)+\": \"+str(visual_words.sum()))\n",
    "                        print(x*256/(2**level), (x+1)*256/(2**level), y*256/(2**level), (y+1)*256/(2**level))\n",
    "    return pyramid_visual_words"
   ]
  },
  {
   "cell_type": "code",
   "execution_count": 34,
   "metadata": {},
   "outputs": [],
   "source": [
    "def histogramIntersection(M,N):\n",
    "    kernel = np.zeros((M.shape[0], N.shape[0]))\n",
    "    for d in range(M.shape[1]):\n",
    "        column_1 = M[:, d].reshape(-1, 1)\n",
    "        column_2 = N[:, d].reshape(-1, 1)\n",
    "        kernel += np.minimum(column_1, column_2.T)\n",
    "        #print(np.minimum(column_1, column_2.T).shape)\n",
    "        #for i in range(column_1.shape[0]):\n",
    "        #    for j in range(column_2.shape[0]):\n",
    "        #        kernel[i,j] = np.minimum(column_1[i],column_2[j])\n",
    "    return kernel"
   ]
  },
  {
   "cell_type": "markdown",
   "metadata": {},
   "source": [
    "## Feature Extraction\n",
    "### Raw data ==> Densesift descriptors ==> Visual words ==> Visual words pyramid ==> Feature standarization\n"
   ]
  },
  {
   "cell_type": "code",
   "execution_count": 35,
   "metadata": {},
   "outputs": [
    {
     "name": "stdout",
     "output_type": "stream",
     "text": [
      "level 0 ->>>>>> 1880.9999\n",
      "level 1,x 0,y 0: 1880.9999\n",
      "0.0 128.0 0.0 128.0\n",
      "level 1,x 0,y 1: 1880.9998\n",
      "0.0 128.0 128.0 256.0\n",
      "level 1,x 1,y 0: 1881.0001\n",
      "128.0 256.0 0.0 128.0\n",
      "level 1,x 1,y 1: 1881.0\n",
      "128.0 256.0 128.0 256.0\n",
      "level 2,x 0,y 0: 1880.9998\n",
      "0.0 64.0 0.0 64.0\n",
      "level 2,x 0,y 1: 1881.0005\n",
      "0.0 64.0 64.0 128.0\n",
      "level 2,x 0,y 2: 1880.9999\n",
      "0.0 64.0 128.0 192.0\n",
      "level 2,x 0,y 3: 1881.0004\n",
      "0.0 64.0 192.0 256.0\n",
      "level 2,x 1,y 0: 1880.9999\n",
      "64.0 128.0 0.0 64.0\n",
      "level 2,x 1,y 1: 1881.0002\n",
      "64.0 128.0 64.0 128.0\n",
      "level 2,x 1,y 2: 1881.0004\n",
      "64.0 128.0 128.0 192.0\n",
      "level 2,x 1,y 3: 1881.0005\n",
      "64.0 128.0 192.0 256.0\n",
      "level 2,x 2,y 0: 1881.0001\n",
      "128.0 192.0 0.0 64.0\n",
      "level 2,x 2,y 1: 1881.0004\n",
      "128.0 192.0 64.0 128.0\n",
      "level 2,x 2,y 2: 1880.9998\n",
      "128.0 192.0 128.0 192.0\n",
      "level 2,x 2,y 3: 1880.9995\n",
      "128.0 192.0 192.0 256.0\n",
      "level 2,x 3,y 0: 1881.0005\n",
      "192.0 256.0 0.0 64.0\n",
      "level 2,x 3,y 1: 1880.9998\n",
      "192.0 256.0 64.0 128.0\n",
      "level 2,x 3,y 2: 1880.9999\n",
      "192.0 256.0 128.0 192.0\n",
      "level 2,x 3,y 3: 1881.0001\n",
      "192.0 256.0 192.0 256.0\n",
      "level 0 ->>>>>> 806.99994\n",
      "level 1,x 0,y 0: 806.99994\n",
      "0.0 128.0 0.0 128.0\n",
      "level 1,x 0,y 1: 807.0\n",
      "0.0 128.0 128.0 256.0\n",
      "level 1,x 1,y 0: 807.0\n",
      "128.0 256.0 0.0 128.0\n",
      "level 1,x 1,y 1: 807.00006\n",
      "128.0 256.0 128.0 256.0\n",
      "level 2,x 0,y 0: 807.00006\n",
      "0.0 64.0 0.0 64.0\n",
      "level 2,x 0,y 1: 807.00006\n",
      "0.0 64.0 64.0 128.0\n",
      "level 2,x 0,y 2: 807.00006\n",
      "0.0 64.0 128.0 192.0\n",
      "level 2,x 0,y 3: 806.99994\n",
      "0.0 64.0 192.0 256.0\n",
      "level 2,x 1,y 0: 806.99994\n",
      "64.0 128.0 0.0 64.0\n",
      "level 2,x 1,y 1: 807.0\n",
      "64.0 128.0 64.0 128.0\n",
      "level 2,x 1,y 2: 807.0001\n",
      "64.0 128.0 128.0 192.0\n",
      "level 2,x 1,y 3: 807.00006\n",
      "64.0 128.0 192.0 256.0\n",
      "level 2,x 2,y 0: 806.99994\n",
      "128.0 192.0 0.0 64.0\n",
      "level 2,x 2,y 1: 806.99976\n",
      "128.0 192.0 64.0 128.0\n",
      "level 2,x 2,y 2: 806.99994\n",
      "128.0 192.0 128.0 192.0\n",
      "level 2,x 2,y 3: 807.00006\n",
      "128.0 192.0 192.0 256.0\n",
      "level 2,x 3,y 0: 807.00006\n",
      "192.0 256.0 0.0 64.0\n",
      "level 2,x 3,y 1: 806.99994\n",
      "192.0 256.0 64.0 128.0\n",
      "level 2,x 3,y 2: 806.99994\n",
      "192.0 256.0 128.0 192.0\n",
      "level 2,x 3,y 3: 806.99976\n",
      "192.0 256.0 192.0 256.0\n",
      "traindata size:  1881\n",
      "Feature size:  10500\n"
     ]
    }
   ],
   "source": [
    "# Densesift descriptors\n",
    "Train_kpts, Train_descriptors, Train_descriptors_vstacked = denseSIFT(train_images_filenames, train_labels)\n",
    "Test_kpts, Test_descriptors, Test_descriptors_vstacked    = denseSIFT(test_images_filenames,   test_labels)\n",
    "\n",
    "# Visual words\n",
    "codebook = MiniBatchKMeans(n_clusters=k, verbose=False, batch_size=k * 20,compute_labels=False,reassignment_ratio=10**-4,random_state=42)\n",
    "codebook.fit(Train_descriptors_vstacked)\n",
    "\n",
    "#  Visual words pyramid\n",
    "visual_words_train = get_visual_words(codebook, Train_descriptors, Train_kpts)\n",
    "visual_words_test  = get_visual_words(codebook, Test_descriptors, Test_kpts)\n",
    "\n",
    "# Feature standarization\n",
    "scaler = StandardScaler(with_mean=False)\n",
    "scaler.fit(visual_words_train)\n",
    "\n",
    "visual_words_train = scaler.transform(visual_words_train)\n",
    "visual_words_test  = scaler.transform(visual_words_test)\n",
    "\n",
    "# Compare between data size and feature size\n",
    "print('traindata size: ',visual_words_train.shape[0])\n",
    "print('Feature size: ',visual_words_train.shape[1])"
   ]
  },
  {
   "cell_type": "markdown",
   "metadata": {},
   "source": [
    "## Trying different classifiers "
   ]
  },
  {
   "cell_type": "code",
   "execution_count": 36,
   "metadata": {},
   "outputs": [
    {
     "name": "stdout",
     "output_type": "stream",
     "text": [
      "60.34696406443618\n"
     ]
    }
   ],
   "source": [
    "## Knn classifier\n",
    "knn = KNeighborsClassifier(n_neighbors=num_neighbors,n_jobs=-1,metric=knn_metric)\n",
    "knn.fit(visual_words_train, train_labels)\n",
    "accuracy = 100*knn.score(visual_words_test, test_labels)\n",
    "print(accuracy)\n"
   ]
  },
  {
   "cell_type": "code",
   "execution_count": 37,
   "metadata": {},
   "outputs": [
    {
     "name": "stdout",
     "output_type": "stream",
     "text": [
      "87.98017348203221\n"
     ]
    },
    {
     "data": {
      "text/plain": [
       "\"\\n## SVM classifier with SGD!\\nclf = SGDClassifier(alpha=.0001, n_iter=60, penalty='l2', shuffle=True, random_state=0,verbose=0)\\nclf.fit(visual_words, train_labels)\\naccuracy = 100*clf.score(visual_words_test, test_labels)\\nprint(accuracy)\\n\""
      ]
     },
     "execution_count": 37,
     "metadata": {},
     "output_type": "execute_result"
    }
   ],
   "source": [
    "## SVM classifier\n",
    "svm_kernel = histogramIntersection  # It must be one of ‘linear’, ‘poly’, ‘rbf’, ‘sigmoid’, ‘precomputed’ or a callable \n",
    "clf = svm.SVC(kernel=svm_kernel, C = 0.01)\n",
    "clf.fit(visual_words_train, train_labels)\n",
    "accuracy = 100*clf.score(visual_words_test, test_labels)\n",
    "print(accuracy)\n",
    "\n",
    "\"\"\"\n",
    "## SVM classifier with SGD!\n",
    "clf = SGDClassifier(alpha=.0001, n_iter=60, penalty='l2', shuffle=True, random_state=0,verbose=0)\n",
    "clf.fit(visual_words, train_labels)\n",
    "accuracy = 100*clf.score(visual_words_test, test_labels)\n",
    "print(accuracy)\n",
    "\"\"\""
   ]
  },
  {
   "cell_type": "markdown",
   "metadata": {},
   "source": [
    "## Create 5 Stratified Folds for Cross-validation"
   ]
  },
  {
   "cell_type": "code",
   "execution_count": null,
   "metadata": {},
   "outputs": [],
   "source": [
    "def evaluate_model():\n",
    "    validation_split_num = 1\n",
    "    accuracys = []\n",
    "    skf = StratifiedKFold(n_splits=5, shuffle=True, random_state=1)\n",
    "    skf_split = skf.split(train_images_filenames, train_labels)\n",
    "    skf_split = skf.split(train_images_filenames, train_labels)\n",
    "    for train_index, validation_index in skf_split:\n",
    "        print(validation_split_num)\n",
    "        cv_train_images_filenames = []\n",
    "        cv_train_labels = []\n",
    "        validation_images_filenames = []\n",
    "        validation_labels = []\n",
    "        for index in train_index:\n",
    "            cv_train_images_filenames.append(train_images_filenames[index])\n",
    "            cv_train_labels.append(train_labels[index])                \n",
    "        for index in validation_index:\n",
    "            validation_images_filenames.append(train_images_filenames[index])\n",
    "            validation_labels.append(train_labels[index]) \n",
    "\n",
    "        cv_Train_kpts, cv_Train_descriptors, D = denseSIFT(cv_train_images_filenames, cv_train_labels)\n",
    "        Validation_kpts, Validation_descriptors, D = denseSIFT(validation_images_filenames, validation_labels)\n",
    "        \n",
    "        codebook = MiniBatchKMeans(n_clusters=k, verbose=False, batch_size=k * 20,compute_labels=False,reassignment_ratio=10**-4,random_state=42)\n",
    "        codebook.fit(D)\n",
    "        \n",
    "        visual_words = get_visual_words(codebook, cv_Train_descriptors, cv_Train_kpts)\n",
    "        visual_words_validation = get_visual_words(codebook, Validation_descriptors, Validation_kpts)\n",
    "        \n",
    "        knn = KNeighborsClassifier(n_neighbors=num_neighbors,n_jobs=-1,metric=knn_metric)\n",
    "        knn.fit(visual_words, cv_train_labels)\n",
    "        \n",
    "        scaler = StandardScaler()\n",
    "        scaler.fit(visual_words)\n",
    "        visual_words = scaler.transform(visual_words)\n",
    "        visual_words_validation = scaler.transform(visual_words_validation)\n",
    "\n",
    "        accuracyKNN = 100*knn.score(visual_words_validation, validation_labels)\n",
    "        \n",
    "        ## SVM classifier\n",
    "        svm_kernel = 'rbf'  # It must be one of ‘linear’, ‘poly’, ‘rbf’, ‘sigmoid’, ‘precomputed’ or a callable \n",
    "        clf = svm.SVC(kernel=svm_kernel, C = 1)\n",
    "        clf.fit(visual_words, cv_train_labels)\n",
    "        accuracySVM = 100*clf.score(visual_words_validation, validation_labels)\n",
    "        accuracys.append(accuracySVM)\n",
    "\n",
    "        with open('parameters_execution.log', 'a') as f:\n",
    "            f.write('denseSift: '+str(denseSift)+', '+\n",
    "                    'num_features: '+str(num_features)+', '+\n",
    "                    'k: '+str(k)+', '+\n",
    "                    'num_neighbors: '+str(num_neighbors)+', '+\n",
    "                    'knn_metric: '+str(knn_metric)+', '+\n",
    "                    'step: '+str(step)+', '+\n",
    "                    'pyramidDepth: '+str(pyramidDepth)+', '+\n",
    "                    'validation_split_num: '+str(validation_split_num)+', '+\n",
    "                    'normalization: '+str(normalization)+', '+\n",
    "                    'norm: '+str(norm)+', '+\n",
    "                    'alpha: '+str(alpha)+', '+\n",
    "                    'kpt_sizes: '+str(kpt_sizes)+', '+\n",
    "                    'accuracySVM: '+str(accuracySVM)+', '+\n",
    "                    'accuracyKNN: '+str(accuracyKNN)+'\\n')\n",
    "        validation_split_num += 1\n",
    "\n",
    "    return accuracys"
   ]
  },
  {
   "cell_type": "code",
   "execution_count": null,
   "metadata": {},
   "outputs": [],
   "source": [
    "\"\"\"\n",
    "dict_k = {}\n",
    "for k in range(100,2001,100): #parameter to be optimized by cv and range \n",
    "    print(k)\n",
    "    acc = evaluate_model()\n",
    "    dict_k[k] = acc\n",
    "print(dict_k)\n",
    "\"\"\"\n"
   ]
  },
  {
   "cell_type": "code",
   "execution_count": null,
   "metadata": {},
   "outputs": [],
   "source": [
    "acc = evaluate_model()\n",
    "print(acc)"
   ]
  },
  {
   "cell_type": "markdown",
   "metadata": {},
   "source": [
    "## Conclusion \n",
    "- We found that the dataset is balanced and no need for using class_weight for loss claculation while training or any any other solutions"
   ]
  },
  {
   "cell_type": "code",
   "execution_count": null,
   "metadata": {},
   "outputs": [],
   "source": []
  },
  {
   "cell_type": "code",
   "execution_count": null,
   "metadata": {},
   "outputs": [],
   "source": []
  }
 ],
 "metadata": {
  "kernelspec": {
   "display_name": "m3kernel",
   "language": "python",
   "name": "m3kernel"
  },
  "language_info": {
   "codemirror_mode": {
    "name": "ipython",
    "version": 3
   },
   "file_extension": ".py",
   "mimetype": "text/x-python",
   "name": "python",
   "nbconvert_exporter": "python",
   "pygments_lexer": "ipython3",
   "version": "3.5.2"
  }
 },
 "nbformat": 4,
 "nbformat_minor": 2
}
