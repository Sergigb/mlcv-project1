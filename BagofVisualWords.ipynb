{
 "cells": [
  {
   "cell_type": "markdown",
   "metadata": {},
   "source": [
    "# M3_Week 1_Assignment\n",
    "- Marc Pérez Quintana  <br>\n",
    "- Basem Elbarashy <br>\n",
    "- Sergi Garcia Bordils <br>\n"
   ]
  },
  {
   "cell_type": "code",
   "execution_count": 1,
   "metadata": {},
   "outputs": [],
   "source": [
    "import cv2\n",
    "import numpy as np\n",
    "import pickle as cPickle\n",
    "from sklearn.cluster import MiniBatchKMeans\n",
    "from sklearn.neighbors import KNeighborsClassifier"
   ]
  },
  {
   "cell_type": "markdown",
   "metadata": {},
   "source": [
    "## read the train and test files"
   ]
  },
  {
   "cell_type": "code",
   "execution_count": 2,
   "metadata": {},
   "outputs": [],
   "source": [
    "train_images_filenames = cPickle.load(open('train_images_filenames.dat','rb'))\n",
    "test_images_filenames = cPickle.load(open('test_images_filenames.dat','rb'))\n",
    "train_labels = cPickle.load(open('train_labels.dat','rb'))\n",
    "test_labels = cPickle.load(open('test_labels.dat','rb'))"
   ]
  },
  {
   "cell_type": "markdown",
   "metadata": {},
   "source": [
    "## set the parameters of the execution"
   ]
  },
  {
   "cell_type": "code",
   "execution_count": 3,
   "metadata": {},
   "outputs": [],
   "source": [
    "num_features = 300 #number of features for the SIFT detector but for densesift it depends on step value\n",
    "k = 300 # codebook size / number of clusters for KMeans\n",
    "num_neighbors = 10 #number of neighbors (k) for the k-nn classifier\n",
    "knn_metric = 'manhattan'#distance for the k-nn classifier\n",
    "denseSift = True #True if Dense SIFT is to be used, False for classical SIFT"
   ]
  },
  {
   "cell_type": "markdown",
   "metadata": {},
   "source": [
    "## create a SIFT object detector and descriptor"
   ]
  },
  {
   "cell_type": "code",
   "execution_count": 4,
   "metadata": {},
   "outputs": [],
   "source": [
    "SIFTdetector = cv2.xfeatures2d.SIFT_create(num_features)"
   ]
  },
  {
   "cell_type": "markdown",
   "metadata": {},
   "source": [
    "## implementing dense sift\n",
    "- compute the SIFT descriptors for all the train images and subsequently build a numpy array with all the descriptors stacked together"
   ]
  },
  {
   "cell_type": "code",
   "execution_count": 5,
   "metadata": {},
   "outputs": [],
   "source": [
    "Train_descriptors = []\n",
    "Train_label_per_descriptor = []\n",
    "\n",
    "\n",
    "for filename, labels in zip(train_images_filenames, train_labels):\n",
    "    filename = filename.replace(\"../../Databases/MIT_split\", \".\")\n",
    "    ima = cv2.imread(filename)\n",
    "    gray = cv2.cvtColor(ima, cv2.COLOR_BGR2GRAY)\n",
    " \n",
    "    if denseSift:\n",
    "        step = 10\n",
    "        height, width = gray.shape\n",
    "        kpt = [cv2.KeyPoint(x, y, step) for y in range(0, gray.shape[0], step) \n",
    "                                        for x in range(0, gray.shape[1], step)]\n",
    "        _, des = SIFTdetector.compute(gray, kpt)\n",
    "        \n",
    "    else:\n",
    "        kpt, des = SIFTdetector.detectAndCompute(gray, None)\n",
    "\n",
    "    Train_descriptors.append(des)\n",
    "    Train_label_per_descriptor.append(labels)\n",
    "\n",
    "D = np.vstack(Train_descriptors)"
   ]
  },
  {
   "cell_type": "code",
   "execution_count": 6,
   "metadata": {},
   "outputs": [
    {
     "name": "stdout",
     "output_type": "stream",
     "text": [
      "676\n"
     ]
    }
   ],
   "source": [
    "print(len(kpt))"
   ]
  },
  {
   "cell_type": "markdown",
   "metadata": {},
   "source": [
    "## compute k-means clustering on the descriptor space"
   ]
  },
  {
   "cell_type": "code",
   "execution_count": 7,
   "metadata": {},
   "outputs": [
    {
     "data": {
      "text/plain": [
       "MiniBatchKMeans(batch_size=6000, compute_labels=False, init='k-means++',\n",
       "        init_size=None, max_iter=100, max_no_improvement=10,\n",
       "        n_clusters=300, n_init=3, random_state=42,\n",
       "        reassignment_ratio=0.0001, tol=0.0, verbose=False)"
      ]
     },
     "execution_count": 7,
     "metadata": {},
     "output_type": "execute_result"
    }
   ],
   "source": [
    "codebook = MiniBatchKMeans(n_clusters=k, verbose=False, batch_size=k * 20,compute_labels=False,reassignment_ratio=10**-4,random_state=42)\n",
    "codebook.fit(D)"
   ]
  },
  {
   "cell_type": "markdown",
   "metadata": {},
   "source": [
    "### for each train image, we project each keypoint descriptor to its closest visual word. We represent each of the images with the frequency of each visual word."
   ]
  },
  {
   "cell_type": "code",
   "execution_count": 8,
   "metadata": {},
   "outputs": [],
   "source": [
    "visual_words=np.zeros((len(Train_descriptors),k),dtype=np.float32)\n",
    "for i in range(len(Train_descriptors)):\n",
    "    words=codebook.predict(Train_descriptors[i])\n",
    "    visual_words[i,:]=np.bincount(words,minlength=k)"
   ]
  },
  {
   "cell_type": "markdown",
   "metadata": {},
   "source": [
    "## build a k-nn classifier and train it with the train descriptors"
   ]
  },
  {
   "cell_type": "code",
   "execution_count": 9,
   "metadata": {},
   "outputs": [
    {
     "data": {
      "text/plain": [
       "KNeighborsClassifier(algorithm='auto', leaf_size=30, metric='manhattan',\n",
       "           metric_params=None, n_jobs=-1, n_neighbors=10, p=2,\n",
       "           weights='uniform')"
      ]
     },
     "execution_count": 9,
     "metadata": {},
     "output_type": "execute_result"
    }
   ],
   "source": [
    "knn = KNeighborsClassifier(n_neighbors=num_neighbors,n_jobs=-1,metric=knn_metric)\n",
    "knn.fit(visual_words, train_labels) "
   ]
  },
  {
   "cell_type": "markdown",
   "metadata": {},
   "source": [
    "## compute the test descriptors and compute the accuracy of the model"
   ]
  },
  {
   "cell_type": "code",
   "execution_count": 10,
   "metadata": {},
   "outputs": [],
   "source": [
    "visual_words_test=np.zeros((len(test_images_filenames),k),dtype=np.float32)\n",
    "for i in range(len(test_images_filenames)):\n",
    "    filename=test_images_filenames[i]\n",
    "    filename = filename.replace(\"../../Databases/MIT_split\", \".\")\n",
    "    ima=cv2.imread(filename)\n",
    "    gray=cv2.cvtColor(ima,cv2.COLOR_BGR2GRAY)\n",
    "         \n",
    "    if denseSift:\n",
    "        step = 10\n",
    "        height, width = gray.shape\n",
    "        kpt = [cv2.KeyPoint(x, y, step) for y in range(0, gray.shape[0], step) \n",
    "                                       for x in range(0, gray.shape[1], step)]\n",
    "        _, des = SIFTdetector.compute(gray, kpt)\n",
    "    else:\n",
    "        kpt, des = SIFTdetector.detectAndCompute(gray, None)\n",
    "        \n",
    "    words=codebook.predict(des)\n",
    "    visual_words_test[i,:]=np.bincount(words,minlength=k)"
   ]
  },
  {
   "cell_type": "code",
   "execution_count": 11,
   "metadata": {},
   "outputs": [
    {
     "name": "stdout",
     "output_type": "stream",
     "text": [
      "81.16480793060718\n"
     ]
    }
   ],
   "source": [
    "accuracy = 100*knn.score(visual_words_test, test_labels)\n",
    "print(accuracy)"
   ]
  },
  {
   "cell_type": "markdown",
   "metadata": {
    "collapsed": true
   },
   "source": [
    "We save a log file of the execution"
   ]
  },
  {
   "cell_type": "code",
   "execution_count": 12,
   "metadata": {},
   "outputs": [],
   "source": [
    "with open('parameters_execution.log', 'a') as f:\n",
    "    f.write('denseSift: '+str(denseSift)+', '+\n",
    "            'num_features: '+str(num_features)+', '+\n",
    "            'k: '+str(k)+', '+\n",
    "            'num_neighbors: '+str(num_neighbors)+', '+\n",
    "            'knn_metric: '+str(knn_metric)+', '+\n",
    "            'accuracy: '+str(accuracy)+'\\n')"
   ]
  },
  {
   "cell_type": "markdown",
   "metadata": {},
   "source": [
    "## We tuned parameters individually first and then tuned all at the same time\n",
    "### visualizing how each parameter affect the accuracy after trying several values for each one"
   ]
  },
  {
   "cell_type": "code",
   "execution_count": 14,
   "metadata": {},
   "outputs": [
    {
     "data": {
      "image/png": "[encoded data removed]",
      "text/plain": [
       "<matplotlib.figure.Figure at 0x7ff5cc0562e8>"
      ]
     },
     "metadata": {},
     "output_type": "display_data"
    },
    {
     "data": {
      "image/png": "[encoded data removed]",
      "text/plain": [
       "<matplotlib.figure.Figure at 0x7ff5c57c4e10>"
      ]
     },
     "metadata": {},
     "output_type": "display_data"
    }
   ],
   "source": [
    "import numpy as np\n",
    "import matplotlib.pyplot as plt\n",
    "\n",
    "\n",
    "k_range             = np.arange(20, 600, 20)\n",
    "num_neighbors_range = np.arange(1, 18, 1)\n",
    "step_range          = np.arange(10,40,5)\n",
    "knn_metric_range    = ['Chebyshev','Euclidean','Manhattan']\n",
    "\n",
    "k_acc               = [66.5,73.2,70.7,75.9,73.3,76.2,76.3,73.4,74.5,75.2,75.2,74.9,76.3,73.9,75.2,75.9,76.7,77.5,74.2,73.6,74.5,76.7,76.4,74.2,72.9,74.5,76.0, 75.9, 72.7]\n",
    "num_neighbors_acc   = [70.6,71.1,73.6,76.2,77.5,75.9,75.8,75.8,75.8,76.8,77.3,77.6,77.4,77.6,76.7,75.9, 76.5]\n",
    "step_acc            = [77.5, 74.3, 75.9, 75.7, 74.4, 73.3]\n",
    "knn_metric_acc      = [59.60,77.57, 78.31]\n",
    "\n",
    "plt.figure(figsize=(14, 7))\n",
    "plt.subplot(221)\n",
    "plt.plot(k_range, k_acc, 'r--');  plt.plot(k_range, k_acc, 'o');  \n",
    "plt.xlabel('K');  plt.ylabel('Accuracy');\n",
    "\n",
    "plt.subplot(222)\n",
    "plt.plot(num_neighbors_range, num_neighbors_acc, 'r--');  plt.plot(num_neighbors_range, num_neighbors_acc, 'o');  \n",
    "plt.xlabel('Num_neighbors');  plt.ylabel('Accuracy');\n",
    "\n",
    "\n",
    "plt.figure(figsize=(14, 7))\n",
    "plt.subplot(221)\n",
    "plt.plot(step_range, step_acc, 'r--');  plt.plot(step_range, step_acc, 'o');  \n",
    "plt.xlabel('Step');  plt.ylabel('Accuracy');\n",
    "\n",
    "\n",
    "plt.subplot(222)\n",
    "plt.plot(knn_metric_range, knn_metric_acc, 'r--');  plt.plot(knn_metric_range, knn_metric_acc, 'o');  \n",
    "plt.xlabel('Knn_metric');  plt.ylabel('Accuracy');\n"
   ]
  },
  {
   "cell_type": "markdown",
   "metadata": {},
   "source": [
    "### Tuning all parameters at the same time, visualizing the accuracy versus deferennt configurations of parameters "
   ]
  },
  {
   "cell_type": "markdown",
   "metadata": {},
   "source": [
    "\n",
    "    \n",
    "| denseSift | num_features   | k | num_neighbors | knn_metric | step | accuracy |\n",
    "|------|------|------|------|------|------|------|\n",
    "|   True  | 676 | 100  | 5 | manhattan  | 10 | 77.3  | \n",
    "|   True  | 676 | 100  | 5 | euclidean  | 10 | 73.3  | \n",
    "|   True  | 169 | 100  | 5 | manhattan  | 20 | 74.3  | \n",
    "|   True  | 169 | 100  | 5 | euclidean  | 20 | 74.3  | \n",
    "|   True  | 676 | 100  | 10 | manhattan  | 10 | 77.6  | \n",
    "|   True  | 676 | 100  | 10 | euclidean  | 10 | 74.9  | \n",
    "|   True  | 169 | 100  | 10 | manhattan  | 20 | 75.4  | \n",
    "|   True  | 169 | 100  | 10 | euclidean  | 20 | 74.5  | \n",
    "|   True  | 676 | 300  | 5 | manhattan  | 10 | 80.9  | \n",
    "|   True  | 676 | 300  | 5 | euclidean  | 10 | 75.2  | \n",
    "|   True  | 169 | 300  | 5 | manhattan  | 20 | 77.1  | \n",
    "|   True  | 169 | 300  | 5 | euclidean  | 20 | 75.9  | \n",
    "|   True  | 676 | 300  | 10 | manhattan  | 10 | 80.5  | \n",
    "|   True  | 676 | 300  | 10 | euclidean  | 10 | 75.3  | \n",
    "|   True  | 169 | 300  | 10 | manhattan  | 20 | 77.1  | \n",
    "|   True  | 169 | 300  | 10 | euclidean  | 20 | 76.4  | \n",
    "|   True  | 2704 | 300  | 10 | manhattan  | 5 | 80.7  | \n",
    "|   False  | 500 | 300  | 5 | manhattan  | - | 48.3  | \n",
    "|   False  | 800 | 300  | 5 | manhattan  | - | 52  | \n",
    "\n"
   ]
  },
  {
   "cell_type": "code",
   "execution_count": null,
   "metadata": {},
   "outputs": [],
   "source": []
  }
 ],
 "metadata": {
  "kernelspec": {
   "display_name": "Python 3.6",
   "language": "python3.6",
   "name": "python3"
  },
  "language_info": {
   "codemirror_mode": {
    "name": "ipython",
    "version": 3
   },
   "file_extension": ".py",
   "mimetype": "text/x-python",
   "name": "python",
   "nbconvert_exporter": "python",
   "pygments_lexer": "ipython3",
   "version": "3.6.3"
  }
 },
 "nbformat": 4,
 "nbformat_minor": 2
}
